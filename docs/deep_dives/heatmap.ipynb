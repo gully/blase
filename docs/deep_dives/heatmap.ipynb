{
 "cells": [
  {
   "cell_type": "code",
   "execution_count": null,
   "metadata": {},
   "outputs": [],
   "source": [
    "import altair as alt\n",
    "import numpy as np\n",
    "from os import listdir\n",
    "import pandas as pd\n",
    "import torch\n",
    "\n",
    "from blase.emulator import SparseLinearEmulator as SLE\n",
    "from blase.optimizer import default_clean\n",
    "from blase.utils import doppler_grid\n",
    "from collections import defaultdict\n",
    "from functools import reduce\n",
    "from gollum.phoenix import PHOENIXSpectrum\n",
    "from re import split"
   ]
  },
  {
   "cell_type": "code",
   "execution_count": null,
   "metadata": {},
   "outputs": [],
   "source": [
    "line_stats = defaultdict(list)\n",
    "for state_file in listdir('../../experiments/08_blase3D_HPC_test/emulator_states'):\n",
    "    state_dict = torch.load(f'emulator_states/{state_file}')\n",
    "    tokens = split('[TGZ]', state_file[:-3])\n",
    "    line_stats['teff'].append(int(tokens[1]))\n",
    "    line_stats['logg'].append(float(tokens[2]))\n",
    "    line_stats['Z'].append(float(tokens[3]))\n",
    "\n",
    "    line_stats['center'].append(state_dict['pre_line_centers'].cpu().numpy())\n",
    "    line_stats['shift_center'].append(state_dict['lam_centers'].cpu().numpy())\n",
    "    line_stats['amp'].append(state_dict['amplitudes'].cpu().numpy())\n",
    "    line_stats['sigma'].append(state_dict['sigma_widths'].cpu().numpy())\n",
    "    line_stats['gamma'].append(state_dict['gamma_widths'].cpu().numpy())"
   ]
  },
  {
   "cell_type": "code",
   "execution_count": null,
   "metadata": {},
   "outputs": [],
   "source": [
    "line_set = reduce(np.union1d, line_stats['center'])\n",
    "df = pd.DataFrame(line_stats)\n",
    "df"
   ]
  },
  {
   "cell_type": "code",
   "execution_count": null,
   "metadata": {},
   "outputs": [],
   "source": [
    "df = df.explode(['center', 'amp', 'sigma', 'gamma', 'shift_center'])\n",
    "df"
   ]
  },
  {
   "cell_type": "code",
   "execution_count": null,
   "metadata": {},
   "outputs": [],
   "source": [
    "df_solar = df.query('Z == 0')\n",
    "df_solar['jitter'] = abs(df_solar.center - df_solar.shift_center)\n",
    "df_solar"
   ]
  },
  {
   "cell_type": "code",
   "execution_count": null,
   "metadata": {},
   "outputs": [],
   "source": [
    "counts = df_solar.value_counts('center')"
   ]
  },
  {
   "cell_type": "code",
   "execution_count": null,
   "metadata": {},
   "outputs": [],
   "source": [
    "current_line = counts.index[20]\n",
    "df_heat = df_solar.query('center == @current_line')\n",
    "x1 = alt.Chart(df_heat).mark_rect().encode(x='teff:O', y='logg:O', color='amp:Q')\\\n",
    "    .properties(width=600, height=400, title=f'Line: {current_line} Angstroms ({len(df_heat)} points)')\n",
    "x2 = alt.Chart(df_heat).mark_rect().encode(x='teff:O', y='logg:O', color='sigma:Q')\\\n",
    "    .properties(width=600, height=400, title=f'Line: {current_line} Angstroms ({len(df_heat)} points)')\n",
    "x3 = alt.Chart(df_heat).mark_rect().encode(x='teff:O', y='logg:O', color='gamma:Q')\\\n",
    "    .properties(width=600, height=400, title=f'Line: {current_line} Angstroms ({len(df_heat)} points)')\n",
    "x4 = alt.Chart(df_heat).mark_rect().encode(x='teff:O', y='logg:O', color='jitter:Q')\\\n",
    "    .properties(width=600, height=400, title=f'Line: {current_line} Angstroms ({len(df_heat)} points)')\n",
    "((x1 | x2).resolve_scale(color='independent') & (x3 | x4).resolve_scale(color='independent'))"
   ]
  },
  {
   "cell_type": "code",
   "execution_count": null,
   "metadata": {},
   "outputs": [],
   "source": [
    "df_n_lines = df_solar.groupby(['teff', 'logg']).size().reset_index(name='n_lines')\n",
    "alt.Chart(df_n_lines).mark_rect().encode(x='teff:O', y='logg:O', color='n_lines:Q')\\\n",
    "    .properties(width=800, height=400, title=f'Number of lines ({len(df_solar)} points)')"
   ]
  },
  {
   "cell_type": "code",
   "execution_count": null,
   "metadata": {},
   "outputs": [],
   "source": [
    "lo, hi = 11000-60, 11180+60\n",
    "line_spread = 7\n",
    "wl_grid = doppler_grid(lo, hi)\n",
    "spec1 = default_clean(PHOENIXSpectrum(teff=3700, logg=5, wl_lo=lo, wl_hi=hi))\n",
    "df_spec1 = pd.DataFrame({'x': spec1.wavelength.value, 'y': spec1.flux.value}).query('abs(@current_line - x) <= @line_spread')\n",
    "spec2 = default_clean(PHOENIXSpectrum(teff=6200, logg=6, wl_lo=lo, wl_hi=hi))\n",
    "df_spec2 = pd.DataFrame({'x': spec2.wavelength.value, 'y': spec2.flux.value}).query('abs(@current_line - x) <= @line_spread')\n",
    "spec3 = default_clean(PHOENIXSpectrum(teff=8600, logg=2.5, wl_lo=lo, wl_hi=hi))\n",
    "df_spec3 = pd.DataFrame({'x': spec3.wavelength.value, 'y': spec3.flux.value}).query('abs(@current_line - x) <= @line_spread')\n",
    "\n",
    "opt1 = SLE(wl_native=wl_grid, wing_cut_pixels=6000, init_state_dict=torch.load('emulator_states/T3700G5.0Z0.0.pt'), device='cpu')\n",
    "df_opt1 = pd.DataFrame({'x': opt1.wl_native, 'y': opt1.forward().detach().cpu().numpy()}).query('abs(@current_line - x) <= @line_spread')\n",
    "opt2 = SLE(wl_native=wl_grid, wing_cut_pixels=6000, init_state_dict=torch.load('emulator_states/T6200G6.0Z0.0.pt'), device='cpu')\n",
    "df_opt2 = pd.DataFrame({'x': opt2.wl_native, 'y': opt2.forward().detach().cpu().numpy()}).query('abs(@current_line - x) <= @line_spread')\n",
    "opt3 = SLE(wl_native=wl_grid, wing_cut_pixels=6000, init_state_dict=torch.load('emulator_states/T8600G2.5Z0.0.pt'), device='cpu')\n",
    "df_opt3 = pd.DataFrame({'x': opt3.wl_native, 'y': opt3.forward().detach().cpu().numpy()}).query('abs(@current_line - x) <= @line_spread')\n",
    "\n",
    "g1 = alt.Chart(df_heat).mark_rect().encode(x='teff:O', y='logg:O', color='amp:Q')\\\n",
    "    .properties(width=600, height=400, title=f'Line: {current_line} Angstroms ({len(df_heat)} points)')\n",
    "c1 = alt.Chart(df_spec1).mark_line().encode(x='x:Q', y=alt.Y('y:Q', scale=alt.Scale(domain=(0.8, 1.025)))).properties(title='T3700:G5') +\\\n",
    "alt.Chart(df_opt1).mark_line(color='orange').encode(x='x:Q', y='y:Q').properties(title='T3700:G5')\n",
    "\n",
    "c2 = alt.Chart(df_spec2).mark_line().encode(x='x:Q', y=alt.Y('y:Q', scale=alt.Scale(domain=(0.8, 1.025)))).properties(title='T6200:G6') +\\\n",
    "alt.Chart(df_opt2).mark_line(color='orange').encode(x='x:Q', y='y:Q').properties(title='T6200:G6')\n",
    "\n",
    "c3 = alt.Chart(df_spec3).mark_line().encode(x='x:Q', y=alt.Y('y:Q', scale=alt.Scale(domain=(0.8, 1.025)))).properties(title='T8600:G2.5') +\\\n",
    "alt.Chart(df_opt3).mark_line(color='orange').encode(x='x:Q', y='y:Q').properties(title='T8600:G2.5')\n",
    "\n",
    "g1 & (c1 | c2 | c3)"
   ]
  }
 ],
 "metadata": {
  "kernelspec": {
   "display_name": "blase",
   "language": "python",
   "name": "python3"
  },
  "language_info": {
   "codemirror_mode": {
    "name": "ipython",
    "version": 3
   },
   "file_extension": ".py",
   "mimetype": "text/x-python",
   "name": "python",
   "nbconvert_exporter": "python",
   "pygments_lexer": "ipython3",
   "version": "3.12.1"
  },
  "orig_nbformat": 4
 },
 "nbformat": 4,
 "nbformat_minor": 2
}
