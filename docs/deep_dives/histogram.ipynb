{
 "cells": [
  {
   "cell_type": "code",
   "execution_count": null,
   "metadata": {},
   "outputs": [],
   "source": [
    "import altair as alt\n",
    "import pandas as pd\n",
    "\n",
    "alt.data_transformers.enable('vegafusion')"
   ]
  },
  {
   "cell_type": "code",
   "execution_count": null,
   "metadata": {},
   "outputs": [],
   "source": [
    "df = pd.read_parquet('plot_residual_hist.parquet.gz')\n",
    "df['residual'] = df.flux1 - df.flux2\n",
    "df.wavelength"
   ]
  },
  {
   "cell_type": "code",
   "execution_count": null,
   "metadata": {},
   "outputs": [],
   "source": [
    "c1 = alt.Chart(df).mark_line(clip=True).encode(x=alt.X('wavelength', scale=alt.Scale(domain=[8038, 9300])), y='flux1', color=alt.value('orange'))\n",
    "c2 = alt.Chart(df).mark_line(clip=True).encode(x=alt.X('wavelength', scale=alt.Scale(domain=[8038, 9300])), y='flux2', color=alt.value('powderblue'))\n",
    "c3 = alt.Chart(df).mark_bar(clip=True).encode(x=alt.X('residual', bin=alt.Bin(maxbins=50000), scale=alt.Scale(domain=[-0.01, 0.01])), y=alt.Y('count()', scale=alt.Scale(type='log')))\n",
    "(c1 + c2).properties(width=600) | c3\n",
    "# teff 4100 logg 2.5 Z 0.0, orange is phoenix, blue is dropout interpolation"
   ]
  }
 ],
 "metadata": {
  "kernelspec": {
   "display_name": "blase",
   "language": "python",
   "name": "python3"
  },
  "language_info": {
   "codemirror_mode": {
    "name": "ipython",
    "version": 3
   },
   "file_extension": ".py",
   "mimetype": "text/x-python",
   "name": "python",
   "nbconvert_exporter": "python",
   "pygments_lexer": "ipython3",
   "version": "3.12.1"
  }
 },
 "nbformat": 4,
 "nbformat_minor": 2
}
