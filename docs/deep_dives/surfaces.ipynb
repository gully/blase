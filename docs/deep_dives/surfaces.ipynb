{
 "cells": [
  {
   "cell_type": "code",
   "execution_count": null,
   "metadata": {},
   "outputs": [],
   "source": [
    "import altair as alt\n",
    "import numpy as np\n",
    "from os import listdir\n",
    "import pandas as pd\n",
    "import torch\n",
    "\n",
    "from blase.emulator import SparseLinearEmulator as SLE\n",
    "from blase.optimizer import default_clean\n",
    "from blase.utils import doppler_grid\n",
    "from collections import defaultdict\n",
    "from functools import reduce\n",
    "from gollum.phoenix import PHOENIXSpectrum\n",
    "from re import split"
   ]
  },
  {
   "cell_type": "code",
   "execution_count": null,
   "metadata": {},
   "outputs": [],
   "source": [
    "from functools import partial\n",
    "from pickle import dump, load\n",
    "import numpy as np\n",
    "\n",
    "def x(x1, x2):\n",
    "    return np.array([x1, x2])\n",
    "\n",
    "z = [partial(x, x1=0.5), partial(x, x1=0.6), partial(x, x1=0.7)]\n",
    "z1 = load(open('z.pkl', 'rb'))\n",
    "z1[2](x2=4)"
   ]
  },
  {
   "cell_type": "code",
   "execution_count": null,
   "metadata": {},
   "outputs": [],
   "source": [
    "path = \"/home/sujay/data/10K_12.5K_clones\"\n",
    "\n",
    "line_stats = defaultdict(list)\n",
    "for state_file in listdir(path):\n",
    "    state_dict = torch.load(f'{path}/{state_file}', map_location='cuda:0')\n",
    "    tokens = split('[TGZ]', state_file[:-3])\n",
    "    line_stats['teff'].append(int(tokens[1]))\n",
    "    line_stats['logg'].append(float(tokens[2]))\n",
    "    line_stats['Z'].append(float(tokens[3]))\n",
    "\n",
    "    line_stats['center'].append(state_dict['pre_line_centers'].cpu().numpy())\n",
    "    line_stats['shift_center'].append(state_dict['lam_centers'].cpu().numpy())\n",
    "    line_stats['amp'].append(state_dict['amplitudes'].cpu().numpy())\n",
    "    line_stats['sigma'].append(state_dict['sigma_widths'].cpu().numpy())\n",
    "    line_stats['gamma'].append(state_dict['gamma_widths'].cpu().numpy())"
   ]
  },
  {
   "cell_type": "code",
   "execution_count": null,
   "metadata": {},
   "outputs": [],
   "source": [
    "line_set = reduce(np.union1d, line_stats['center'])\n",
    "df = pd.DataFrame(line_stats)\n",
    "df = df.query('Z == 0')\n",
    "df"
   ]
  },
  {
   "cell_type": "code",
   "execution_count": null,
   "metadata": {},
   "outputs": [],
   "source": [
    "df = df.explode(['center', 'amp', 'sigma', 'gamma', 'shift_center'])\n",
    "df"
   ]
  },
  {
   "cell_type": "code",
   "execution_count": null,
   "metadata": {},
   "outputs": [],
   "source": [
    "df_solar = df.query('Z == 0')\n",
    "df_solar['jitter'] = abs(df_solar.center - df_solar.shift_center)\n",
    "counts = df_solar.value_counts('center')\n",
    "alt.data_transformers.enable('vegafusion')\n"
   ]
  },
  {
   "cell_type": "code",
   "execution_count": null,
   "metadata": {},
   "outputs": [],
   "source": [
    "\n",
    "df_hist = pd.DataFrame(counts).reset_index()\n",
    "df_hist['order'] = df_hist.index\n",
    "#df_hist['count'] =np.log10(df_hist['count'])\n",
    "alt.Chart(df_hist).mark_bar().encode(x='order:Q', y=alt.Y('count:Q'))"
   ]
  },
  {
   "cell_type": "code",
   "execution_count": null,
   "metadata": {},
   "outputs": [],
   "source": [
    "i = 0"
   ]
  },
  {
   "cell_type": "code",
   "execution_count": null,
   "metadata": {},
   "outputs": [],
   "source": [
    "current_line = counts.index[i]\n",
    "i+= 1\n",
    "df_heat = df_solar.query('center == @current_line')\n",
    "teff = alt.X('teff:O', title='Effective Temperature [K]', axis=alt.Axis(values=[*range(2200, 7000, 200), *range(7000, 12000, 400)]))\n",
    "logg = alt.Y('logg:O', title='Surface Gravity [dex]')\n",
    "\n",
    "x1 = alt.Chart(df_heat).mark_rect().encode(x=teff, y=logg, color='amp:Q')\\\n",
    "    .properties(width=600, height=400, title=f'Line at {current_line} Angstroms: Amplitude')\n",
    "x2 = alt.Chart(df_heat).mark_rect().encode(x=teff, y=logg, color='sigma:Q')\\\n",
    "    .properties(width=600, height=400, title=f'Line at {current_line} Angstroms: Gaussian Shape')\n",
    "x3 = alt.Chart(df_heat).mark_rect().encode(x=teff, y=logg, color='gamma:Q')\\\n",
    "    .properties(width=600, height=400, title=f'Line at {current_line} Angstroms: Lorentzian Shape')\n",
    "x4 = alt.Chart(df_heat).mark_rect().encode(x=teff, y=logg, color='jitter:Q')\\\n",
    "    .properties(width=600, height=400, title=f'Line at {current_line} Angstroms: Jitter')\n",
    "((x1 | x2).resolve_scale(color='independent') & (x3 | x4).resolve_scale(color='independent')).configure_axis(labelFontSize=16, titleFontSize=16).configure_title(fontSize=20)"
   ]
  },
  {
   "cell_type": "code",
   "execution_count": null,
   "metadata": {},
   "outputs": [],
   "source": [
    "df_n_lines = df_solar.groupby(['teff', 'logg']).size().reset_index(name='n_lines')\n",
    "alt.Chart(df_n_lines).mark_rect().encode(x=alt.X('teff:O', axis=alt.Axis(values=[*range(2200, 7000, 200), *range(7000, 12000, 400)]), title='Effective Temperature [K]'), y=alt.Y('logg:O', title='Surface Gravity [dex]'), color=alt.Color('n_lines:Q', scale=alt.Scale(type='log'), title='# Lines'))\\\n",
    "    .properties(width=800, height=400, title=f'Number of Lines: {len(df_solar)} Total Line Detections').configure_axis(labelFontSize=20, titleFontSize=20).configure_title(fontSize=25)"
   ]
  }
 ],
 "metadata": {
  "kernelspec": {
   "display_name": "blase",
   "language": "python",
   "name": "python3"
  },
  "language_info": {
   "codemirror_mode": {
    "name": "ipython",
    "version": 3
   },
   "file_extension": ".py",
   "mimetype": "text/x-python",
   "name": "python",
   "nbconvert_exporter": "python",
   "pygments_lexer": "ipython3",
   "version": "3.11.6"
  }
 },
 "nbformat": 4,
 "nbformat_minor": 2
}
