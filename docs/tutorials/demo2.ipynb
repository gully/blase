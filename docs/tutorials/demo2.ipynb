{
 "cells": [
  {
   "cell_type": "markdown",
   "id": "0aca5d70",
   "metadata": {},
   "source": [
    "# Step 2: Clone a TelFit telluric model spectrum\n",
    "\n",
    "One of `blasé`'s neat capabilities is to jointly model both the stellar spectrum and the telluric spectrum simultaneously.  Here we demonstate the telluric cloning step of that process---in isolation---as we move towards a goal of an end-to-end whole-spectrum fitting."
   ]
  },
  {
   "cell_type": "code",
   "execution_count": null,
   "id": "80c73acc",
   "metadata": {},
   "outputs": [],
   "source": [
    "import torch\n",
    "from blase.emulator import SparseLogEmulator\n",
    "from gollum.telluric import TelFitSpectrum\n",
    "import numpy as np\n",
    "%config InlineBackend.figure_format='retina'"
   ]
  },
  {
   "cell_type": "code",
   "execution_count": null,
   "id": "5500840f",
   "metadata": {},
   "outputs": [],
   "source": [
    "device = \"cpu\" # Change to \"cuda\" if you happen to have an NVIDIA GPU available."
   ]
  },
  {
   "cell_type": "markdown",
   "id": "26135348",
   "metadata": {},
   "source": [
    "#### Set the wavelength limits\n",
    "Here we choose a small region to match the previous stellar spectrum demo."
   ]
  },
  {
   "cell_type": "code",
   "execution_count": null,
   "id": "df74db25",
   "metadata": {},
   "outputs": [],
   "source": [
    "wl_lo = 11_000-60\n",
    "wl_hi = 11_180+60"
   ]
  },
  {
   "cell_type": "markdown",
   "id": "dfb206e6",
   "metadata": {},
   "source": [
    "## Read in a precomputed synthetic telluric spectrum"
   ]
  },
  {
   "cell_type": "markdown",
   "id": "37a69b45",
   "metadata": {},
   "source": [
    "We start with a precomputed [TelFit](https://telfit.readthedocs.io/en/latest/) model.  TelFit is a Python wrapper to `lblrtm`, a tunable line-by-line radiative transfer model of Earth's atmospheric absorption, as a function of temperature, pressure, humidity, and the detailed molecular compositions of Earth's atmosphere's bulk and trace gases.  This SciPy 2015 video by Kevin Gullkison describes the code:"
   ]
  },
  {
   "cell_type": "code",
   "execution_count": null,
   "id": "35921ed0",
   "metadata": {},
   "outputs": [],
   "source": [
    "from IPython.display import IFrame\n",
    "IFrame('https://www.youtube.com/embed/1_7F7ZBvF88', 560, 315)"
   ]
  },
  {
   "cell_type": "markdown",
   "id": "c25ef1b2",
   "metadata": {},
   "source": [
    "This file was generated with `TelFit`, previously saved locally, uploaded to [Box](https://www.box.com), and made publicly available via a static link (which has the unfortunate side effect of obfuscating the original filename).  \n",
    "\n",
    "The model was evaluated with a $60^{\\circ}$ F nighttime temperature and 40% humidity with an altitude consistent with McDonald Observatory and an airmass set to the HET's fixed airmass.\n",
    "\n",
    "Practitioners will likely want to regenerate a bespoke TelFit model that matches their atmospheric conditions and site.  The model need not arise from TelFit, and in principle [molecfit](https://www.eso.org/sci/software/pipelines/skytools/molecfit), or [Planetary Spectrum Generator](https://psg.gsfc.nasa.gov), or other model templates *should* work so long as they are noise-free ultra-high-resolution models."
   ]
  },
  {
   "cell_type": "code",
   "execution_count": null,
   "id": "eed8cb77",
   "metadata": {},
   "outputs": [],
   "source": [
    "#local_file = '/Volumes/pecos/libraries/raw/telfit/grid_v1p0/telfit_800_1300nm_temp290_hum040.txt'\n",
    "web_link = 'https://utexas.box.com/shared/static/3d43yqog5htr93qbfql3acg4v4wzhbn8.txt'"
   ]
  },
  {
   "cell_type": "code",
   "execution_count": null,
   "id": "32811a3b",
   "metadata": {},
   "outputs": [],
   "source": [
    "telluric_spectrum_full = TelFitSpectrum(path=web_link).air_to_vacuum()"
   ]
  },
  {
   "cell_type": "code",
   "execution_count": null,
   "id": "35be1472",
   "metadata": {},
   "outputs": [],
   "source": [
    "mask = ((telluric_spectrum_full.wavelength.value > wl_lo) & \n",
    "        (telluric_spectrum_full.wavelength.value < wl_hi) )\n",
    "telluric_spectrum = telluric_spectrum_full.apply_boolean_mask(mask)"
   ]
  },
  {
   "cell_type": "markdown",
   "id": "233f5c98",
   "metadata": {},
   "source": [
    "Great! Let's clone the telluric spectrum with the LogEmulator."
   ]
  },
  {
   "cell_type": "code",
   "execution_count": null,
   "id": "90f7bbc2",
   "metadata": {},
   "outputs": [],
   "source": [
    "telluric_wl = telluric_spectrum.wavelength.value\n",
    "telluric_flux = np.abs(telluric_spectrum.flux.value)\n",
    "telluric_lnflux = np.log(telluric_flux) # \"natural log\" or log base `e`"
   ]
  },
  {
   "cell_type": "markdown",
   "id": "f8feb1ec",
   "metadata": {},
   "source": [
    "Below about `-15` in `ln` space, the flux becomes dominated by **numerical artifacts**.  That's okay, we will never perceive flux that is less than a ten-millionth of the continuum, so we can simply chop it off.  "
   ]
  },
  {
   "cell_type": "code",
   "execution_count": null,
   "id": "22b53363",
   "metadata": {},
   "outputs": [],
   "source": [
    "telluric_lnflux[telluric_lnflux < -15] = -15"
   ]
  },
  {
   "cell_type": "markdown",
   "id": "bfff16b4",
   "metadata": {},
   "source": [
    "The emulate takes in the spectrum and finds all the \"prominent\" spectral lines above some `prominence` threshold.  A prominence threshold of `0.01` roughly corresponds to absorption lines that are 1% below the continuum.  \n",
    "\n",
    "We use a **logarithmic** emulator for telluric lines because some spectral lines are so saturated that they appear to have nearly flat bottoms asymptotically approaching `0.0`.  Linear emulators tend to break in this saturated regime."
   ]
  },
  {
   "cell_type": "code",
   "execution_count": null,
   "id": "d32163d4",
   "metadata": {},
   "outputs": [],
   "source": [
    "%%capture\n",
    "emulator = SparseLogEmulator(telluric_wl, telluric_lnflux, \n",
    "                             wing_cut_pixels=6000, prominence=0.01, device=device)"
   ]
  },
  {
   "cell_type": "markdown",
   "id": "5e2bf459",
   "metadata": {},
   "source": [
    "The coarse initialization of the emulator yields lousy clones, just like we saw in the stellar cloning example.  Nevertheless, let's spotcheck what the spectrum looks like:"
   ]
  },
  {
   "cell_type": "code",
   "execution_count": null,
   "id": "ef8d0a5f",
   "metadata": {},
   "outputs": [],
   "source": [
    "with torch.no_grad():\n",
    "    telluric_pre = emulator.forward().cpu().numpy()"
   ]
  },
  {
   "cell_type": "code",
   "execution_count": null,
   "id": "1fff7311",
   "metadata": {},
   "outputs": [],
   "source": [
    "ax = telluric_spectrum.plot(ylo=0, yhi=1.2, label='Native TelFit model');\n",
    "ax.step(telluric_wl, telluric_pre, label='Coarse blasé initialization')\n",
    "ax.set_xlim(11_060, 11_120)\n",
    "ax.legend(loc='upper right', ncol=2);"
   ]
  },
  {
   "cell_type": "markdown",
   "id": "4ef6590e",
   "metadata": {},
   "source": [
    "As we expected, the clone does not match the native resolution `TelFit` model.  We will *fine-tune* the cloned line properties to make the match nearly pixel-perfect.  That process is sometimes referred to as *optimization*."
   ]
  },
  {
   "cell_type": "markdown",
   "id": "bf94d448",
   "metadata": {},
   "source": [
    "## Fine-tuning the spectral line properties\n",
    "\n",
    "One neat aspect of PyTorch is that it's easy to fix parameters in the optimization process. You simply turn off the gradients of some parameter.  Operationally, this simple switch makes it so that those `requires_grad = False` parameters cannot \"sense\" the direction to a better fit and so they simply stay where they are.   \n",
    "\n",
    "Here we fill fix the *line center positions* $\\lambda_0$, and vary the amplitude, width, and shape of each Voigt profile."
   ]
  },
  {
   "cell_type": "code",
   "execution_count": null,
   "id": "042016bd",
   "metadata": {},
   "outputs": [],
   "source": [
    "emulator.lam_centers.requires_grad = False\n",
    "emulator.amplitudes.requires_grad = True\n",
    "emulator.sigma_widths.requires_grad = True\n",
    "emulator.gamma_widths.requires_grad = True"
   ]
  },
  {
   "cell_type": "markdown",
   "id": "bcfb2ac9",
   "metadata": {},
   "source": [
    "We choose 100 epochs and a learning rate `LR` of 0.05, favoring speed over precision.  We recommend training for more epochs with a finer learning rate if you are unsatisfied with the precision you obtain."
   ]
  },
  {
   "cell_type": "code",
   "execution_count": null,
   "id": "afe790d3",
   "metadata": {},
   "outputs": [],
   "source": [
    "emulator.optimize(epochs=100, LR=0.05)"
   ]
  },
  {
   "cell_type": "markdown",
   "id": "c8ba3f8f",
   "metadata": {},
   "source": [
    "Those 100 epochs took about 90 seconds on my M1 Macbook Air.  We can now examine the fine-tuned forward model."
   ]
  },
  {
   "cell_type": "code",
   "execution_count": null,
   "id": "af6456ce",
   "metadata": {},
   "outputs": [],
   "source": [
    "with torch.no_grad():\n",
    "    telluric_post = emulator.forward().cpu().numpy()"
   ]
  },
  {
   "cell_type": "code",
   "execution_count": null,
   "id": "af5fccc1",
   "metadata": {},
   "outputs": [],
   "source": [
    "ax = telluric_spectrum.plot(ylo=0, yhi=1.2, label='Native TelFit model');\n",
    "ax.step(telluric_wl, telluric_post, label='blasé fine-tuned clone')\n",
    "ax.set_xlim(11_060, 11_120)\n",
    "ax.legend(loc='upper right', ncol=2);"
   ]
  },
  {
   "cell_type": "markdown",
   "id": "487eae6f",
   "metadata": {},
   "source": [
    "Nice! The cloning appears near pixel-perfect, with the exception of the line cores of a few lines.  Recall that this model will eventually get convolved with an instrumental kernel and resampled before being compared to data, and so these apparently conspicuous flaws will be significantly dilluted.  \n",
    "\n",
    "Allowing the $\\lambda_0$ to vary may also result in a slightly better clone, since flaws in the guessed line positions are baked in, and it is currently impossible for the clone to wiggle free of these overzealous restraints.  We encourage you to experiment with turning on `emulator.lam_centers.requires_grad = True` to see to what extent the clone improves.\n",
    "\n",
    "In summary, we have \"reverse-engineered\" the TelFit model to get a flexible and interpretable clone that we can then transfer to a semi-empirical model later on.  "
   ]
  },
  {
   "cell_type": "markdown",
   "id": "475335f9",
   "metadata": {},
   "source": [
    "Finally, we save the pre-trained model:"
   ]
  },
  {
   "cell_type": "code",
   "execution_count": null,
   "id": "98c582e9",
   "metadata": {},
   "outputs": [],
   "source": [
    "torch.save(emulator.state_dict(), \"telfit_clone_temp290_hum040_prom0p01_11000Ang.pt\")"
   ]
  }
 ],
 "metadata": {
  "kernelspec": {
   "display_name": "Python 3 (ipykernel)",
   "language": "python",
   "name": "python3"
  },
  "language_info": {
   "codemirror_mode": {
    "name": "ipython",
    "version": 3
   },
   "file_extension": ".py",
   "mimetype": "text/x-python",
   "name": "python",
   "nbconvert_exporter": "python",
   "pygments_lexer": "ipython3",
   "version": "3.11.6"
  }
 },
 "nbformat": 4,
 "nbformat_minor": 5
}
