{
 "cells": [
  {
   "cell_type": "code",
   "execution_count": 1,
   "metadata": {},
   "outputs": [
    {
     "name": "stdout",
     "output_type": "stream",
     "text": [
      "PyTorch 2.2.0 active\n"
     ]
    },
    {
     "data": {
      "text/plain": [
       "DataTransformerRegistry.enable('vegafusion')"
      ]
     },
     "execution_count": 1,
     "metadata": {},
     "output_type": "execute_result"
    }
   ],
   "source": [
    "import altair as alt\n",
    "import numpy as np\n",
    "import pandas as pd\n",
    "import torch\n",
    "\n",
    "from blase.optimizer import default_clean\n",
    "from collections import defaultdict\n",
    "from gollum.phoenix import PHOENIXSpectrum\n",
    "from pathlib import Path\n",
    "from re import split\n",
    "from tqdm import tqdm\n",
    "\n",
    "alt.data_transformers.enable('vegafusion')"
   ]
  },
  {
   "cell_type": "markdown",
   "metadata": {},
   "source": [
    "# [2] **Line Count Heatmap**"
   ]
  },
  {
   "cell_type": "code",
   "execution_count": null,
   "metadata": {},
   "outputs": [],
   "source": [
    "line_stats = defaultdict(list)\n",
    "for file in tqdm(Path('../../experiments/08_blase3D_HPC_test/emulator_states').glob('*'), total=1314):\n",
    "    state_dict = torch.load(file, 'cuda')\n",
    "    tokens = split('[TGZ]', file.stem)\n",
    "    line_stats['teff'].append(int(tokens[1]))\n",
    "    line_stats['logg'].append(float(tokens[2]))\n",
    "    line_stats['Z'].append(float(tokens[3]))\n",
    "    line_stats['center'].append(state_dict['pre_line_centers'].cpu().numpy())\n",
    "    line_stats['shift_center'].append(state_dict['lam_centers'].cpu().numpy())\n",
    "    line_stats['amp'].append(state_dict['amplitudes'].cpu().numpy())\n",
    "    line_stats['sigma'].append(state_dict['sigma_widths'].cpu().numpy())\n",
    "    line_stats['gamma'].append(state_dict['gamma_widths'].cpu().numpy())\n",
    "df = pd.DataFrame(line_stats).explode(['center', 'amp', 'sigma', 'gamma', 'shift_center'])\n",
    "df_gp = pd.DataFrame(line_stats)[['teff', 'logg', 'Z']]\n",
    "df['jitter'] = df.shift_center - df.center"
   ]
  },
  {
   "cell_type": "code",
   "execution_count": null,
   "metadata": {},
   "outputs": [],
   "source": [
    "df.groupby(['teff', 'logg', 'Z']).size().reset_index(name='count').sort_values('count', ascending=False)"
   ]
  },
  {
   "cell_type": "code",
   "execution_count": null,
   "metadata": {},
   "outputs": [],
   "source": [
    "c1 = alt.Chart(df.query('Z == 0').groupby(['teff', 'logg']).size().reset_index(name='n_lines'), width=1000, height=180, title='[Fe/H] = 0').mark_rect()\\\n",
    "    .encode(x=alt.X('teff:O', title='', axis=alt.Axis(values=list(np.arange(2400, 12001, 200)), labels=False)), y=alt.Y('logg:O', title='Gravity', axis=alt.Axis(titleAlign='right')), color=alt.Color('n_lines:Q', title='Count', scale=alt.Scale(type='log')))\n",
    "c2 = alt.Chart(df.query('Z == -0.5').groupby(['teff', 'logg']).size().reset_index(name='n_lines'), width=1000, height=200, title='[Fe/H] = -0.5').mark_rect()\\\n",
    "    .encode(x=alt.X('teff:O', title='Effective Temperature [K]', axis=alt.Axis(values=list(np.arange(2400, 12001, 400)))), y=alt.Y('logg:O', title='Surface', axis=alt.Axis(titleAlign='left')), color=alt.Color('n_lines:Q', title='Count', scale=alt.Scale(type='log')).legend(gradientLength=370))   \n",
    "alt.vconcat(c1, c2, spacing=3).configure_title(fontSize=27, dy=110).configure_axis(labelFontSize=18, titleFontSize=27).configure_legend(labelFontSize=16, titleFontSize=18).save('figure2.png', scale_factor=4.0)"
   ]
  },
  {
   "cell_type": "markdown",
   "metadata": {},
   "source": [
    "# [3, 4] **PHOENIX Subset Discrete Manifold**\n",
    "C I line and He II line"
   ]
  },
  {
   "cell_type": "code",
   "execution_count": null,
   "metadata": {},
   "outputs": [],
   "source": [
    "target_line = df.value_counts('center').index[1]\n",
    "cs = [alt.Chart(df.query('center == @target_line & Z == 0'), width=1000, height=180).mark_rect()\\\n",
    "    .encode(x=alt.X('teff:O', title=('Effective Temperature [K]' if i == 3 else ''), axis=alt.Axis(values=list(np.arange(2400, 12001, 400)), labels=(i == 3))), \n",
    "            y=alt.Y('logg:O', title=('Gravity' if i == 1 else ('Surface' if i == 2 else '')), axis=alt.Axis(titleAnchor=('start' if i == 2 else 'end'), titleAlign=(('right' if i == 2 else 'left')))), \n",
    "            color=alt.Color(f'{param[0]}:Q', title=param[1]).legend(gradientLength=135)) for i, param in enumerate([('amp', ['Log-', 'Amplitude']), ('sigma', ['Gaussian', 'Width']), ('gamma', ['Lorentzian', 'Width']), ('jitter', ['Line', 'Offset'])])]\n",
    "alt.vconcat(*cs, spacing=3).properties(title='C I Line at 11617.66 Å').resolve_scale(color='independent').configure_axis(labelFontSize=18, titleFontSize=27).configure_legend(labelFontSize=16, titleFontSize=18).configure_title(fontSize=27, anchor='middle').save('figure3.png', scale_factor=4.0)"
   ]
  },
  {
   "cell_type": "code",
   "execution_count": null,
   "metadata": {},
   "outputs": [],
   "source": [
    "target_line = 10123.66\n",
    "white_bg = alt.Chart(df_gp.query('teff >= 3400 & teff <= 6800'), width=500, height=180).mark_rect()\\\n",
    "    .encode(x=alt.X('teff:O', axis=alt.Axis(values=list(np.arange(3400, 6801, 200)))), \n",
    "            y=alt.Y('logg:O', axis=alt.Axis(values=list(np.arange(2, 6, 0.5)))), \n",
    "            color=alt.value('white'))\n",
    "cs = [white_bg + alt.Chart(df.query('center == @target_line & Z == 0'), width=500, height=180).mark_rect()\\\n",
    "    .encode(x=alt.X('teff:O', title=('Effective Temperature [K]' if i == 3 else ''), axis=alt.Axis(values=list(np.arange(3400, 6801, 200)), labels=(i == 3))), \n",
    "            y=alt.Y('logg:O', title=('Gravity' if i == 1 else ('Surface' if i == 2 else '')), axis=alt.Axis(titleAnchor=('start' if i == 2 else 'end'), titleAlign=('right' if i == 2 else 'left'))), \n",
    "            color=alt.Color(f'{param[0]}:Q', title=param[1]).legend(gradientLength=135)) for i, param in enumerate([('amp', ['Log-', 'Amplitude']), ('sigma', ['Gaussian', 'Width']), ('gamma', ['Lorentzian', 'Width']), ('jitter', ['Line', 'Offset'])])]\n",
    "alt.vconcat(*cs, spacing=3).properties(title='He II Line at 10123.66 Å').resolve_scale(color='independent').configure_axis(labelFontSize=18, titleFontSize=27).configure_legend(labelFontSize=16, titleFontSize=18).configure_title(fontSize=27, anchor='middle').save('figure4.png', scale_factor=4.0)"
   ]
  },
  {
   "cell_type": "markdown",
   "metadata": {},
   "source": [
    "# [5, 6] **Spectral Reconstruction Demo**"
   ]
  },
  {
   "cell_type": "code",
   "execution_count": null,
   "metadata": {},
   "outputs": [],
   "source": [
    "lo = 10123.275\n",
    "hi = 10123.5\n",
    "s1 = default_clean(PHOENIXSpectrum(teff=5500, logg=4.5))\n",
    "s2 = default_clean(PHOENIXSpectrum(teff=5900, logg=4.5))\n",
    "s3 = pd.read_parquet('../../experiments/10_end_to_end/reconstruction_demo.parquet.gz').query('wavelength <= @hi and wavelength >= @lo')\n",
    "s3['Stellar Parameters'] = 'T: 5772 K, log(g): 4.4374, [Fe/H]: 0'\n",
    "s3['Type'] = 'Line Interpolation'\n",
    "c1 = alt.Chart(pd.DataFrame({'wavelength': s1.wavelength.value, 'flux': s1.flux.value, 'Stellar Parameters': 'T: 5500 K, log(g): 4.5, [Fe/H]: 0'}).query('wavelength <= @hi and wavelength >= @lo'), width=400, height=400, title='He II Line at 10123.66 Å').mark_line(strokeWidth=8).encode(x=alt.X('wavelength', title='Wavelength [Å]'), y=alt.Y('flux', title='Normalized Flux').scale(zero=False), color='Stellar Parameters')\n",
    "c2 = alt.Chart(pd.DataFrame({'wavelength': s2.wavelength.value, 'flux': s2.flux.value, 'Stellar Parameters': 'T: 5900 K, log(g): 4.5, [Fe/H]: 0'}).query('wavelength <= @hi and wavelength >= @lo')).mark_line(strokeWidth=8).encode(x='wavelength', y='flux', color=alt.Color('Stellar Parameters', scale=alt.Scale(scheme='inferno')))\n",
    "c3 = alt.Chart(s3).mark_line(strokeWidth=5, strokeDash=[10, 5]).encode(x='wavelength', y='flux', color='Stellar Parameters')\n",
    "(c1 + c2 + c3).configure_axis(labelFontSize=15, titleFontSize=24).configure_title(fontSize=25).configure_legend(labelFontSize=16, titleFontSize=16, offset=5, fillColor='white', orient='top-right', labelLimit=0, symbolStrokeWidth=6).save('figure5.png', scale_factor=4.0)\n"
   ]
  },
  {
   "cell_type": "code",
   "execution_count": null,
   "metadata": {},
   "outputs": [],
   "source": [
    "s4 = default_clean(PHOENIXSpectrum(teff=5700, logg=4.5))\n",
    "s5 = default_clean(PHOENIXSpectrum(teff=5800, logg=4.5))\n",
    "f_int = s4.flux.value * 0.28 + s5.flux.value * 0.72\n",
    "c4 = alt.Chart(pd.DataFrame({'wavelength': s4.wavelength.value, 'flux': f_int, 'Type': 'Pixel Interpolation'}).query('wavelength <= @hi and wavelength >= @lo'), width=400, height=400, title='He II Line at 10123.66 Å').mark_line(strokeWidth=5).encode(x=alt.X('wavelength', title='Wavelength [Å]'), y=alt.Y('flux', title='Normalized Flux', scale=alt.Scale(zero=False)), color=alt.Color('Type', scale=alt.Scale(scheme='inferno')))\n",
    "c5 = alt.Chart(s3).mark_line(strokeWidth=5).encode(x='wavelength', y='flux', color='Type')\n",
    "(c4 + c5).configure_axis(labelFontSize=15, titleFontSize=24).configure_title(fontSize=25).configure_legend(labelFontSize=16, titleFontSize=16, offset=5, fillColor='white', orient='top-right', labelLimit=0, symbolStrokeWidth=6).save('figure6.png', scale_factor=4.0)"
   ]
  },
  {
   "cell_type": "markdown",
   "metadata": {},
   "source": [
    "# [7] **PHOENIX Generator Reconstruction Performance**"
   ]
  },
  {
   "cell_type": "code",
   "execution_count": null,
   "metadata": {},
   "outputs": [],
   "source": [
    "df = pd.DataFrame({'N': [2, 5, 10, 25, 50, 75, 100], \n",
    "                   'Pseudo-Parallel': [16.572938919067383, 18.667826108634472, 21.52281529456377, 28.28887704014778, 39.83675589412451, 53.722645066678524, 62.9894732311368],\n",
    "                   'Serial': [29.681056290864944, 80.29932584613562, 156.88104890286922, 381.16286554932594, 747.9954723417759, 1159.3977541476488, 1518.2086955830455]})\n",
    "df['R'] = df['Serial'] / df['Pseudo-Parallel']\n",
    "df2 = df.copy()\n",
    "df2['Pseudo-Parallel'] /= df2.N \n",
    "df2['Serial'] /= df2.N\n",
    "df = df.melt(id_vars='N', var_name='Set', value_name='Time')\n",
    "df2 = df2.melt(id_vars='N', var_name='Set', value_name='Time')\n",
    "c1 = alt.Chart(df.query('Set != \"R\"'), width=400, height=400).mark_line(strokeWidth=6).encode(x=alt.X('N', title='', axis=alt.Axis(labels=False)), y=alt.Y('Time', title='Time [s]', scale=alt.Scale(domain=[16, 1600], type='log')), color=alt.Color('Set', title=' Reconstruction Type', scale=alt.Scale(scheme='inferno')))\n",
    "c2 = alt.Chart(df.query('Set == \"R\"'), width=400, height=100).mark_line(strokeWidth=6).encode(x=alt.X('N', title='Number of Reconstructions'), y=alt.Y('Time', title='Speedup'), color=alt.value('crimson'))\n",
    "c3 = alt.Chart(df2.query('Set != \"R\"'), width=400, height=400).mark_line(strokeWidth=6).encode(x=alt.X('N', title='', axis=alt.Axis(labels=False)), y=alt.Y('Time', title='Time per Spectrum [s]'), color=alt.Color('Set', title=' Reconstruction Type', scale=alt.Scale(scheme='inferno')))\n",
    "alt.vconcat(c1, c3, c2, spacing=3).configure_axis(labelFontSize=15, titleFontSize=24).configure_legend(labelFontSize=16, titleFontSize=16, offset=-400, padding=5, fillColor='white', symbolStrokeWidth=8).configure_title(fontSize=25).save('figure7.png', scale_factor=4.0)"
   ]
  },
  {
   "cell_type": "markdown",
   "metadata": {},
   "source": [
    "# [8] **Inference Residuals**"
   ]
  },
  {
   "cell_type": "code",
   "execution_count": 151,
   "metadata": {},
   "outputs": [],
   "source": [
    "df = pd.read_csv('../../out.txt', header=None, names=['t', 'g', 'z', 'ti', 'gi', 'zi', 'time'])\n",
    "df['tr'] = df.ti - df.t\n",
    "df['gr'] = df.gi - df.g\n",
    "df['zr'] = df.zi - df.z\n",
    "df.time /= 60\n",
    "df.time.mean()\n",
    "df2 = df"
   ]
  },
  {
   "cell_type": "code",
   "execution_count": 152,
   "metadata": {},
   "outputs": [],
   "source": [
    "cs = [alt.Chart(df2).mark_errorbar(color='purple', extent='stdev', thickness=3).encode(x='t', y=alt.Y(q[0], title='')) \\\n",
    "    + alt.Chart(df2, width=400, height=400, title=q[1]).mark_line(color='purple', strokeWidth=5).encode(\n",
    "    x=alt.X('t', title=('Effective Temperature [K]' if i == 1 else ''), scale=alt.Scale(zero=False)), y=alt.Y(f'mean({q[0]})', scale=alt.Scale(zero=False), title=('Residuals' if i == 0 else ''), axis=alt.Axis(titleAnchor='middle'))\n",
    ") for i, q in enumerate([('tr', 'Effective Temperature [K]'), ('gr', 'Surface Gravity'), ('zr', '[Fe/H]')])]\n",
    "alt.hconcat(*cs, spacing=3).configure_axis(labelFontSize=20, titleFontSize=30).configure_title(fontSize=30).save('figure8.png', scale_factor=4.0)"
   ]
  }
 ],
 "metadata": {
  "kernelspec": {
   "display_name": "gollum",
   "language": "python",
   "name": "python3"
  },
  "language_info": {
   "codemirror_mode": {
    "name": "ipython",
    "version": 3
   },
   "file_extension": ".py",
   "mimetype": "text/x-python",
   "name": "python",
   "nbconvert_exporter": "python",
   "pygments_lexer": "ipython3",
   "version": "3.12.1"
  }
 },
 "nbformat": 4,
 "nbformat_minor": 2
}
