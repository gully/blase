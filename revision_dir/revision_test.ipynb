{
 "cells": [
  {
   "cell_type": "code",
   "execution_count": null,
   "metadata": {},
   "outputs": [],
   "source": [
    "import numpy as np\n",
    "import torch\n",
    "\n",
    "from blase.optimizer import run_emulator\n",
    "from gollum.phoenix import PHOENIXSpectrum\n",
    "from itertools import product\n",
    "from os.path import getsize\n",
    "from pathlib import Path\n",
    "from time import perf_counter\n",
    "from tqdm import tqdm"
   ]
  },
  {
   "cell_type": "code",
   "execution_count": null,
   "metadata": {},
   "outputs": [],
   "source": [
    "path = Path('/mnt/c/Users/sujay/Downloads/PHOENIX_Neo/PHOENIX-ACES-AGSS-COND-2011')\n",
    "teffs = np.hstack([np.arange(2600, 7000, 100), np.arange(7000, 11401, 200)])\n",
    "loggs = np.arange(2.5, 6.01, 0.5)\n",
    "Zs = np.array([-3, -2, -1.5, -1, -0.5, 0, 0.5, 1])\n",
    "size = 0\n",
    "for T, G, Z in tqdm(product(teffs, loggs, Zs), total=(npoints := len(teffs) * len(loggs) * len(Zs))):\n",
    "    subpath = (path / f'Z{Z:+0.1f}') if Z != 0 else (path / 'Z-0.0')\n",
    "    p = list(subpath.glob(f'*{T}*{G}*'))\n",
    "    if len(p):\n",
    "        size += getsize(p[0])\n",
    "    else:\n",
    "        print(T, G, Z)\n",
    "print(f'Grid Points: {size/10**9} GB, Grid Points: {npoints}')"
   ]
  },
  {
   "cell_type": "code",
   "execution_count": null,
   "metadata": {},
   "outputs": [],
   "source": [
    "start = perf_counter\n",
    "for T, G, Z in tqdm(product(teffs, loggs, Zs), total=npoints):\n",
    "    spec = PHOENIXSpectrum(wl_lo=8049, wl_hi=12815, teff=T, logg=G, Z=Z, path='/mnt/c/Users/sujay/Downloads/PHOENIX_Neo/')\n",
    "    run_emulator(spec, device='cuda')\n",
    "    print(f'Cloned {(T, G, Z)}')\n",
    "print(f'Cloning Time: {perf_counter() - start}')"
   ]
  }
 ],
 "metadata": {
  "kernelspec": {
   "display_name": "gollum",
   "language": "python",
   "name": "gollum"
  },
  "language_info": {
   "codemirror_mode": {
    "name": "ipython",
    "version": 3
   },
   "file_extension": ".py",
   "mimetype": "text/x-python",
   "name": "python",
   "nbconvert_exporter": "python",
   "pygments_lexer": "ipython3",
   "version": "3.12.1"
  }
 },
 "nbformat": 4,
 "nbformat_minor": 2
}
