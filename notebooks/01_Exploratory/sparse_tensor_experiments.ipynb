{
 "cells": [
  {
   "cell_type": "markdown",
   "metadata": {},
   "source": [
    "# Can we represent spectral lines with sparse tensors in PyTorch?"
   ]
  },
  {
   "cell_type": "markdown",
   "metadata": {},
   "source": [
    "April 23-26, 2021  \n",
    "gully\n",
    "\n",
    "**New:** We can now infer RV with backpropagation so long as the RV falls within the `wingcut` window."
   ]
  },
  {
   "cell_type": "code",
   "execution_count": 2,
   "metadata": {},
   "outputs": [],
   "source": [
    "import torch\n",
    "\n",
    "import matplotlib.pyplot as plt\n",
    "%matplotlib inline\n",
    "%config InlineBackend.figure_format='retina'"
   ]
  },
  {
   "cell_type": "markdown",
   "metadata": {},
   "source": [
    "### Make a tensor composed of $N_{lines}$ sparsely spaced spectral lines.\n",
    "\n",
    "I have experimentally verified that this notebook works with up to 500,000 lines.  You may wish to turn off overplotting all the lines for $N_{lines}>500$.  Also, the amplitudes become unphysical and the spectrum can become negative because we are adding flux loss and not opacity."
   ]
  },
  {
   "cell_type": "code",
   "execution_count": 3,
   "metadata": {},
   "outputs": [],
   "source": [
    "N_lines = 100_000 # Can go up to 500_000 but requires commenting out plots."
   ]
  },
  {
   "cell_type": "markdown",
   "metadata": {},
   "source": [
    "We will adopt units of \"deciAngstrom\", equal to one tenth of an Angstrom.  This choice will help us stick to using integers, which is needed for the sparse index approach."
   ]
  },
  {
   "cell_type": "code",
   "execution_count": 4,
   "metadata": {},
   "outputs": [],
   "source": [
    "lam_lo = 105000\n",
    "lam_hi = 110000\n",
    "Delta_lam = lam_hi - lam_lo"
   ]
  },
  {
   "cell_type": "code",
   "execution_count": 5,
   "metadata": {},
   "outputs": [],
   "source": [
    "wingcut = 100"
   ]
  },
  {
   "cell_type": "code",
   "execution_count": 6,
   "metadata": {},
   "outputs": [],
   "source": [
    "lam_vec = torch.arange(lam_lo-wingcut, lam_hi+wingcut, step=1)\n",
    "n_pix = len(lam_vec)"
   ]
  },
  {
   "cell_type": "code",
   "execution_count": 7,
   "metadata": {},
   "outputs": [
    {
     "data": {
      "text/plain": [
       "5200"
      ]
     },
     "execution_count": 7,
     "metadata": {},
     "output_type": "execute_result"
    }
   ],
   "source": [
    "n_pix"
   ]
  },
  {
   "cell_type": "markdown",
   "metadata": {},
   "source": [
    "Draw $N_{lines}$ random wavelength centers $\\lambda_c$, amplitudes $A$, and widths $w$ to simulate authentic spectral lines."
   ]
  },
  {
   "cell_type": "code",
   "execution_count": 8,
   "metadata": {},
   "outputs": [],
   "source": [
    "lam_centers_native = lam_lo + Delta_lam*torch.rand(N_lines)\n",
    "amplitudes = 0.01 + 0.3*torch.rand(N_lines)\n",
    "widths = 4.1*torch.ones_like(amplitudes)"
   ]
  },
  {
   "cell_type": "markdown",
   "metadata": {},
   "source": [
    "Stack the patches into a tensor and offset them by the line center position."
   ]
  },
  {
   "cell_type": "code",
   "execution_count": 9,
   "metadata": {},
   "outputs": [],
   "source": [
    "del_lambda_rv = -10.123456789 # Demo"
   ]
  },
  {
   "cell_type": "markdown",
   "metadata": {},
   "source": [
    "The truncated indices are fixed, and will not update based on the RV.  This allows the RV to be inferred with back-propagation."
   ]
  },
  {
   "cell_type": "markdown",
   "metadata": {},
   "source": [
    "#### Fixed wavelength indices and coordinates"
   ]
  },
  {
   "cell_type": "code",
   "execution_count": 10,
   "metadata": {},
   "outputs": [],
   "source": [
    "lambda_patch_trunc = torch.arange(-wingcut, wingcut,1).unsqueeze(1)\n",
    "lambda_patches_trunc = torch.repeat_interleave(lambda_patch_trunc, N_lines, dim=1)\n",
    "\n",
    "lam_centers_trunc = torch.trunc(lam_centers_native).to(torch.int)\n",
    "\n",
    "lambda_segments_trunc = lambda_patches_trunc + lam_centers_trunc\n",
    "indices = lambda_segments_trunc - (lam_lo - wingcut)"
   ]
  },
  {
   "cell_type": "markdown",
   "metadata": {},
   "source": [
    "#### (In-between) Allow individual line centers to be \"imperfect\"\n",
    "If you want individual spectral line positions to be allowed to float, you can allow `lam_centers_native` to become a variable (`grad=True`).  For now we assume the line center positions are known to unimpeachable precision."
   ]
  },
  {
   "cell_type": "code",
   "execution_count": 11,
   "metadata": {},
   "outputs": [],
   "source": [
    "lambda_segments_native = lambda_patches_trunc + lam_centers_native"
   ]
  },
  {
   "cell_type": "markdown",
   "metadata": {},
   "source": [
    "#### Variable wavelength indices and coordinates"
   ]
  },
  {
   "cell_type": "code",
   "execution_count": 12,
   "metadata": {},
   "outputs": [],
   "source": [
    "lambda_patches_native = lambda_segments_trunc - lam_centers_native + del_lambda_rv"
   ]
  },
  {
   "cell_type": "code",
   "execution_count": 13,
   "metadata": {},
   "outputs": [],
   "source": [
    "absorption_per_line = amplitudes*torch.exp(-0.5*lambda_patches_native**2/widths**2)"
   ]
  },
  {
   "cell_type": "markdown",
   "metadata": {},
   "source": [
    "This cell is really slow to evaluate!"
   ]
  },
  {
   "cell_type": "code",
   "execution_count": 14,
   "metadata": {},
   "outputs": [
    {
     "data": {
      "image/png": "[encoded data removed]",
      "text/plain": [
       "<Figure size 1080x216 with 1 Axes>"
      ]
     },
     "metadata": {
      "image/png": {
       "height": 225,
       "width": 895
      },
      "needs_background": "light"
     },
     "output_type": "display_data"
    }
   ],
   "source": [
    "plt.figure(figsize=(15, 3))\n",
    "#plt.plot(lambda_segments_native/10, 1-absorption_per_line);\n",
    "plt.xlabel('$\\lambda \\;(\\AA)$')\n",
    "plt.ylabel('Absorption per line')\n",
    "plt.title('Individual lines vertically offset for clarity');"
   ]
  },
  {
   "cell_type": "markdown",
   "metadata": {},
   "source": [
    "The lines sum together to make the net spectrum. To sum the spectrum we need to make a sparse tensor!"
   ]
  },
  {
   "cell_type": "code",
   "execution_count": 15,
   "metadata": {},
   "outputs": [],
   "source": [
    "indices = lambda_segments_trunc - (lam_lo - wingcut)"
   ]
  },
  {
   "cell_type": "markdown",
   "metadata": {},
   "source": [
    "Flatten the 2D Matrix into a 1D Vector."
   ]
  },
  {
   "cell_type": "code",
   "execution_count": 16,
   "metadata": {},
   "outputs": [
    {
     "ename": "RuntimeError",
     "evalue": "size is inconsistent with indices: for dim 0, size is 5200 but found index 996432417152",
     "output_type": "error",
     "traceback": [
      "\u001b[0;31m---------------------------------------------------------------------------\u001b[0m",
      "\u001b[0;31mRuntimeError\u001b[0m                              Traceback (most recent call last)",
      "\u001b[0;32m/tmp/ipykernel_12580/3923925265.py\u001b[0m in \u001b[0;36m<module>\u001b[0;34m\u001b[0m\n\u001b[1;32m      2\u001b[0m \u001b[0mvalues_flat\u001b[0m \u001b[0;34m=\u001b[0m \u001b[0mabsorption_per_line\u001b[0m\u001b[0;34m.\u001b[0m\u001b[0mreshape\u001b[0m\u001b[0;34m(\u001b[0m\u001b[0;34m-\u001b[0m\u001b[0;36m1\u001b[0m\u001b[0;34m)\u001b[0m\u001b[0;34m\u001b[0m\u001b[0;34m\u001b[0m\u001b[0m\n\u001b[1;32m      3\u001b[0m \u001b[0;34m\u001b[0m\u001b[0m\n\u001b[0;32m----> 4\u001b[0;31m \u001b[0ms\u001b[0m \u001b[0;34m=\u001b[0m \u001b[0mtorch\u001b[0m\u001b[0;34m.\u001b[0m\u001b[0msparse_coo_tensor\u001b[0m\u001b[0;34m(\u001b[0m\u001b[0mindices_flat\u001b[0m\u001b[0;34m,\u001b[0m \u001b[0mvalues_flat\u001b[0m\u001b[0;34m,\u001b[0m \u001b[0;34m(\u001b[0m\u001b[0mDelta_lam\u001b[0m\u001b[0;34m+\u001b[0m\u001b[0mwingcut\u001b[0m\u001b[0;34m*\u001b[0m\u001b[0;36m2\u001b[0m\u001b[0;34m,\u001b[0m\u001b[0;34m)\u001b[0m\u001b[0;34m)\u001b[0m\u001b[0;34m\u001b[0m\u001b[0;34m\u001b[0m\u001b[0m\n\u001b[0m",
      "\u001b[0;31mRuntimeError\u001b[0m: size is inconsistent with indices: for dim 0, size is 5200 but found index 996432417152"
     ]
    }
   ],
   "source": [
    "indices_flat = indices.reshape(-1).unsqueeze(0)\n",
    "values_flat = absorption_per_line.reshape(-1)\n",
    "\n",
    "s = torch.sparse_coo_tensor(indices_flat, values_flat, (Delta_lam+wingcut*2,))"
   ]
  },
  {
   "cell_type": "markdown",
   "metadata": {},
   "source": [
    "Now coalesce the spectrum, which sums the values at repeated indices."
   ]
  },
  {
   "cell_type": "code",
   "execution_count": 17,
   "metadata": {},
   "outputs": [
    {
     "ename": "NameError",
     "evalue": "name 's' is not defined",
     "output_type": "error",
     "traceback": [
      "\u001b[0;31m---------------------------------------------------------------------------\u001b[0m",
      "\u001b[0;31mNameError\u001b[0m                                 Traceback (most recent call last)",
      "\u001b[0;32m/tmp/ipykernel_12580/2860410972.py\u001b[0m in \u001b[0;36m<module>\u001b[0;34m\u001b[0m\n\u001b[0;32m----> 1\u001b[0;31m \u001b[0msummed\u001b[0m \u001b[0;34m=\u001b[0m \u001b[0ms\u001b[0m\u001b[0;34m.\u001b[0m\u001b[0mcoalesce\u001b[0m\u001b[0;34m(\u001b[0m\u001b[0;34m)\u001b[0m\u001b[0;34m\u001b[0m\u001b[0;34m\u001b[0m\u001b[0m\n\u001b[0m\u001b[1;32m      2\u001b[0m \u001b[0msummed_vec\u001b[0m \u001b[0;34m=\u001b[0m \u001b[0msummed\u001b[0m\u001b[0;34m.\u001b[0m\u001b[0mto_dense\u001b[0m\u001b[0;34m(\u001b[0m\u001b[0;34m)\u001b[0m\u001b[0;34m\u001b[0m\u001b[0;34m\u001b[0m\u001b[0m\n",
      "\u001b[0;31mNameError\u001b[0m: name 's' is not defined"
     ]
    }
   ],
   "source": [
    "summed = s.coalesce()\n",
    "summed_vec = summed.to_dense()"
   ]
  },
  {
   "cell_type": "code",
   "execution_count": null,
   "metadata": {},
   "outputs": [],
   "source": [
    "lam_vec.shape, summed_vec.shape"
   ]
  },
  {
   "cell_type": "code",
   "execution_count": null,
   "metadata": {},
   "outputs": [],
   "source": [
    "plt.figure(figsize=(15, 3))\n",
    "plt.step(lam_vec/10, 1- summed_vec);\n",
    "plt.xlabel('$\\lambda \\;(\\AA)$')\n",
    "plt.ylabel('Net Spectrum')\n",
    "plt.title('Summed lines');"
   ]
  },
  {
   "cell_type": "markdown",
   "metadata": {},
   "source": [
    "## Put it all together\n",
    "\n",
    "Let's define a model that takes in RV, width, and optionally amplitudes."
   ]
  },
  {
   "cell_type": "code",
   "execution_count": null,
   "metadata": {},
   "outputs": [],
   "source": [
    "def model_spectrum(rv, width, amplitudes):\n",
    "    '''Generate the model spectrum given an RV and width  \n",
    "    \n",
    "    parameters\n",
    "    ----------\n",
    "    rv: (torch float)\n",
    "        The radial velocity expressed as a wavelength shift, i.e. deciAngstroms.\n",
    "    width: (torch float)\n",
    "        The linewidth in units of deciAngstroms.\n",
    "    amplitudes: (torch tensor)\n",
    "        The vector of N_lines amplitudes for the strength of each line.\n",
    "    '''\n",
    "    lambda_patches_native = lambda_segments_trunc - lam_centers_native + rv\n",
    "    absorption_per_line = amplitudes*torch.exp(-0.5*lambda_patches_native**2/width**2)\n",
    "    \n",
    "    values_flat = absorption_per_line.reshape(-1)\n",
    "\n",
    "    s = torch.sparse_coo_tensor(indices_flat, values_flat, (n_pix,))\n",
    "    return s.coalesce().to_dense()"
   ]
  },
  {
   "cell_type": "code",
   "execution_count": null,
   "metadata": {},
   "outputs": [],
   "source": [
    "plt.figure(figsize=(15, 3))\n",
    "plt.step(lam_vec/10, 1- model_spectrum(10.4, 10.6, amplitudes));\n",
    "plt.xlabel('$\\lambda \\;(\\AA)$')\n",
    "plt.ylabel('Net Spectrum')\n",
    "plt.title('Summed lines');"
   ]
  },
  {
   "cell_type": "code",
   "execution_count": null,
   "metadata": {},
   "outputs": [],
   "source": [
    "%%time \n",
    "model_spectrum(-31.1, 1.3, amplitudes)"
   ]
  }
 ],
 "metadata": {
  "kernelspec": {
   "display_name": "Python 3 (ipykernel)",
   "language": "python",
   "name": "python3"
  },
  "language_info": {
   "codemirror_mode": {
    "name": "ipython",
    "version": 3
   },
   "file_extension": ".py",
   "mimetype": "text/x-python",
   "name": "python",
   "nbconvert_exporter": "python",
   "pygments_lexer": "ipython3",
   "version": "3.7.11"
  }
 },
 "nbformat": 4,
 "nbformat_minor": 4
}
