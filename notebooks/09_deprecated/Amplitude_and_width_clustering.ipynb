{
 "cells": [
  {
   "cell_type": "markdown",
   "id": "d9106ff3",
   "metadata": {},
   "source": [
    "# Amplitude and width clustering\n",
    "\n",
    "The blase model *should* overfit.  One common path for overfitting is to have lines with really large widths to make up for continuum imperfections.  Let's see if we can identify and flag these."
   ]
  },
  {
   "cell_type": "code",
   "execution_count": null,
   "id": "0df581d6",
   "metadata": {},
   "outputs": [],
   "source": [
    "import torch\n",
    "import numpy as np\n",
    "import matplotlib.pyplot as plt\n",
    "%matplotlib inline\n",
    "%config InlineBackend.figure_format='retina'\n",
    "\n",
    "import seaborn as sns\n",
    "sns.set_context('paper', font_scale=2)"
   ]
  },
  {
   "cell_type": "code",
   "execution_count": null,
   "id": "542e82f1",
   "metadata": {},
   "outputs": [],
   "source": [
    "from blase.emulator import PhoenixEmulator"
   ]
  },
  {
   "cell_type": "code",
   "execution_count": null,
   "id": "1e61bfb5",
   "metadata": {},
   "outputs": [],
   "source": [
    "! ls -t1 ../examples/*.pt"
   ]
  },
  {
   "cell_type": "code",
   "execution_count": null,
   "id": "7a587caa",
   "metadata": {},
   "outputs": [],
   "source": [
    "! du -hs '../examples/native_res_0p1prom.pt'"
   ]
  },
  {
   "cell_type": "code",
   "execution_count": null,
   "id": "a86acf7b",
   "metadata": {},
   "outputs": [],
   "source": [
    "with torch.no_grad():\n",
    "    model_params = torch.load('../examples/native_res_0p1prom.pt')"
   ]
  },
  {
   "cell_type": "code",
   "execution_count": null,
   "id": "b0ea29b7",
   "metadata": {},
   "outputs": [],
   "source": [
    "emulator = PhoenixEmulator(4700, 4.5, prominence=0.1,)"
   ]
  },
  {
   "cell_type": "code",
   "execution_count": null,
   "id": "1db0846f",
   "metadata": {},
   "outputs": [],
   "source": [
    "emulator.load_state_dict(model_params)"
   ]
  },
  {
   "cell_type": "markdown",
   "id": "8ad995b4",
   "metadata": {},
   "source": [
    "This step takes a *TON* of RAM unless you use `torch.no_grad`!"
   ]
  },
  {
   "cell_type": "code",
   "execution_count": null,
   "id": "33913a6a",
   "metadata": {},
   "outputs": [],
   "source": [
    "with torch.no_grad():\n",
    "    cloned_spectrum = emulator.forward(emulator.wl_native)"
   ]
  },
  {
   "cell_type": "code",
   "execution_count": null,
   "id": "3cce2057",
   "metadata": {},
   "outputs": [],
   "source": [
    "type(cloned_spectrum), cloned_spectrum.shape"
   ]
  },
  {
   "cell_type": "markdown",
   "id": "84b0885c",
   "metadata": {},
   "source": [
    "## $\\pm 2.5\\%$ residuals with a long tail\n",
    "\n",
    "At native resolution"
   ]
  },
  {
   "cell_type": "code",
   "execution_count": null,
   "id": "596c6776",
   "metadata": {},
   "outputs": [],
   "source": [
    "plt.figure(figsize=(20, 5))\n",
    "plt.plot(emulator.wl_native, emulator.flux_native, label='PHOENIX model')\n",
    "plt.plot(emulator.wl_native, cloned_spectrum.detach(), label='Clone')\n",
    "plt.legend()"
   ]
  },
  {
   "cell_type": "code",
   "execution_count": null,
   "id": "e9991cb1",
   "metadata": {},
   "outputs": [],
   "source": [
    "residual = emulator.flux_native - cloned_spectrum.detach()"
   ]
  },
  {
   "cell_type": "code",
   "execution_count": null,
   "id": "c03232b2",
   "metadata": {},
   "outputs": [],
   "source": [
    "stddev = torch.std(residual)"
   ]
  },
  {
   "cell_type": "code",
   "execution_count": null,
   "id": "8099ce30",
   "metadata": {},
   "outputs": [],
   "source": [
    "plt.figure(figsize=(20, 5))\n",
    "plt.plot(emulator.wl_native, residual*100.0, label='Residual')\n",
    "plt.axhline(+stddev*100, color='k', linestyle='dashed')\n",
    "plt.axhline(-stddev*100, color='k', linestyle='dashed')\n",
    "plt.ylim(-10, 10)\n",
    "plt.ylabel('Residual (%)')"
   ]
  },
  {
   "cell_type": "markdown",
   "id": "58c0f595",
   "metadata": {},
   "source": [
    "Hmmm, those residuals seem large compared to the reported residuals after training... did something go wrong when we loaded them in?  Is there some hysteresis when loading a model?  A rounding error?\n",
    "\n",
    "How big are the residuals when you smooth them to HPF resolution?"
   ]
  },
  {
   "cell_type": "markdown",
   "id": "ac7057d1",
   "metadata": {},
   "source": [
    "## Smooth to HPF resolution"
   ]
  },
  {
   "cell_type": "code",
   "execution_count": null,
   "id": "32e7d65b",
   "metadata": {},
   "outputs": [],
   "source": [
    "from gollum.phoenix import PHOENIXSpectrum\n",
    "import astropy.units as u\n",
    "\n",
    "from muler.hpf import HPFSpectrumList"
   ]
  },
  {
   "cell_type": "code",
   "execution_count": null,
   "id": "200d61bc",
   "metadata": {},
   "outputs": [],
   "source": [
    "original_native = PHOENIXSpectrum(spectral_axis=emulator.wl_native*u.Angstrom, \n",
    "                                flux=emulator.flux_native*u.dimensionless_unscaled)"
   ]
  },
  {
   "cell_type": "code",
   "execution_count": null,
   "id": "49e783da",
   "metadata": {},
   "outputs": [],
   "source": [
    "clone_native = PHOENIXSpectrum(spectral_axis=emulator.wl_native*u.Angstrom, \n",
    "                                flux=cloned_spectrum*u.dimensionless_unscaled)"
   ]
  },
  {
   "cell_type": "code",
   "execution_count": null,
   "id": "f2cb6663",
   "metadata": {},
   "outputs": [],
   "source": [
    "echelle_orders = HPFSpectrumList.read('../../muler_example_data/HPF/01_A0V_standards/Goldilocks_20210517T054403_v1.0_0060.spectra.fits')"
   ]
  },
  {
   "cell_type": "code",
   "execution_count": null,
   "id": "066ad5ac",
   "metadata": {},
   "outputs": [],
   "source": [
    "hpf_spectrum = echelle_orders.sky_subtract(method='vector')\\\n",
    "                                .deblaze()\\\n",
    "                                .normalize()\\\n",
    "                                .remove_nans()\\\n",
    "                                .trim_edges((6,2042))\\\n",
    "                                .stitch()"
   ]
  },
  {
   "cell_type": "code",
   "execution_count": null,
   "id": "5f4f43cc",
   "metadata": {},
   "outputs": [],
   "source": [
    "def simulate_observation(spectrum):\n",
    "    \"\"\"Simulate an observation with HPF\"\"\"\n",
    "    return spectrum.rotationally_broaden(13.5)\\\n",
    "                    .rv_shift(-16.2)\\\n",
    "                    .instrumental_broaden(resolving_power=55_000)\\\n",
    "                    .resample(hpf_spectrum)"
   ]
  },
  {
   "cell_type": "code",
   "execution_count": null,
   "id": "ad958cd1",
   "metadata": {},
   "outputs": [],
   "source": [
    "original_sim = simulate_observation(original_native)\n",
    "clone_sim = simulate_observation(clone_native)"
   ]
  },
  {
   "cell_type": "code",
   "execution_count": null,
   "id": "1e96256b",
   "metadata": {},
   "outputs": [],
   "source": [
    "ax = original_sim.plot(ylo=0, yhi=2)\n",
    "clone_sim.plot(ax=ax)"
   ]
  },
  {
   "cell_type": "code",
   "execution_count": null,
   "id": "1bcb9078",
   "metadata": {},
   "outputs": [],
   "source": [
    "ax = original_sim.plot(ylo=0.5, yhi=1)\n",
    "clone_sim.plot(ax=ax)\n",
    "ax.set_xlim(10820, 10960)"
   ]
  },
  {
   "cell_type": "markdown",
   "id": "9f4249f5",
   "metadata": {},
   "source": [
    "Yuck!  The cloning is not adequate at this zoom level.  Did we not train long enough?"
   ]
  },
  {
   "cell_type": "code",
   "execution_count": null,
   "id": "b2228d8c",
   "metadata": {},
   "outputs": [],
   "source": [
    "residual_spec = (original_sim - clone_sim)*100"
   ]
  },
  {
   "cell_type": "code",
   "execution_count": null,
   "id": "3918f0fb",
   "metadata": {},
   "outputs": [],
   "source": [
    "stddev = residual_spec.flux.std().value"
   ]
  },
  {
   "cell_type": "code",
   "execution_count": null,
   "id": "dafbae94",
   "metadata": {},
   "outputs": [],
   "source": [
    "stddev"
   ]
  },
  {
   "cell_type": "markdown",
   "id": "a47a9bfb",
   "metadata": {},
   "source": [
    "## $\\pm 0.9\\%$ residuals after smoothing and resampling\n"
   ]
  },
  {
   "cell_type": "code",
   "execution_count": null,
   "id": "10f8a5c3",
   "metadata": {},
   "outputs": [],
   "source": [
    "ax = residual_spec.plot(ylo=-10, yhi=10)\n",
    "ax.axhline(+stddev, color='k', linestyle='dashed')\n",
    "ax.axhline(-stddev, color='k', linestyle='dashed')\n",
    "ax.set_ylabel('Residual (%)')"
   ]
  },
  {
   "cell_type": "markdown",
   "id": "2f847b77",
   "metadata": {},
   "source": [
    "We still want better than 1%!  That level of residual is comparable to the SNR of a real spectrum."
   ]
  },
  {
   "cell_type": "markdown",
   "id": "3151112a",
   "metadata": {},
   "source": [
    "## Clustering of parameters"
   ]
  },
  {
   "cell_type": "code",
   "execution_count": null,
   "id": "43393f14",
   "metadata": {},
   "outputs": [],
   "source": [
    "amps, widths = model_params['amplitudes'].detach().cpu().numpy(), model_params['gamma_widths'].detach().cpu().numpy()"
   ]
  },
  {
   "cell_type": "code",
   "execution_count": null,
   "id": "bb3aa2b8",
   "metadata": {},
   "outputs": [],
   "source": [
    "amps, widths = np.exp(amps), np.exp(widths)"
   ]
  },
  {
   "cell_type": "code",
   "execution_count": null,
   "id": "af7ab154",
   "metadata": {},
   "outputs": [],
   "source": [
    "plt.plot(widths,amps, 'o', alpha=0.1)\n",
    "plt.yscale('log'), plt.xscale('log')\n",
    "plt.xlabel('$\\gamma_L \\; (\\AA) $'); plt.ylabel('Amplitude');"
   ]
  },
  {
   "cell_type": "markdown",
   "id": "29b51d6d",
   "metadata": {},
   "source": [
    "Hmm, I'd expect to see continuum overfitting in the bottom right corner:  Wide lines with low amplitude."
   ]
  },
  {
   "cell_type": "code",
   "execution_count": null,
   "id": "34c3b864",
   "metadata": {},
   "outputs": [],
   "source": [
    "from scipy.signal import find_peaks"
   ]
  },
  {
   "cell_type": "code",
   "execution_count": null,
   "id": "9b621889",
   "metadata": {},
   "outputs": [],
   "source": [
    "biggest_residuals = find_peaks(np.abs(residual), height=0.1)"
   ]
  },
  {
   "cell_type": "code",
   "execution_count": null,
   "id": "232a2bd1",
   "metadata": {},
   "outputs": [],
   "source": [
    "indices, meta_info = biggest_residuals"
   ]
  },
  {
   "cell_type": "code",
   "execution_count": null,
   "id": "234a4755",
   "metadata": {},
   "outputs": [],
   "source": [
    "plt.figure(figsize=(20, 5))\n",
    "plt.plot(emulator.wl_native, np.abs(residual*100.0), label='Residual')\n",
    "plt.ylim(0, 100)\n",
    "\n",
    "plt.plot(emulator.wl_native[indices], 100*meta_info['peak_heights'], 'ro')\n",
    "plt.ylabel('Residual (%)')"
   ]
  },
  {
   "cell_type": "code",
   "execution_count": null,
   "id": "605a67dc",
   "metadata": {},
   "outputs": [],
   "source": []
  }
 ],
 "metadata": {
  "kernelspec": {
   "display_name": "Python 3 (ipykernel)",
   "language": "python",
   "name": "python3"
  },
  "language_info": {
   "codemirror_mode": {
    "name": "ipython",
    "version": 3
   },
   "file_extension": ".py",
   "mimetype": "text/x-python",
   "name": "python",
   "nbconvert_exporter": "python",
   "pygments_lexer": "ipython3",
   "version": "3.7.11"
  }
 },
 "nbformat": 4,
 "nbformat_minor": 5
}
